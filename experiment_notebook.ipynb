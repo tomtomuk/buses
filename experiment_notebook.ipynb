{
 "cells": [
  {
   "cell_type": "code",
   "execution_count": 1,
   "metadata": {},
   "outputs": [],
   "source": [
    "from bods_client.models.base import APIError\n",
    "from bods_client.client import BODSClient\n",
    "from bods_client.models import BoundingBox, Siri, SIRIVMParams\n",
    "\n",
    "import csv\n",
    "import time, datetime"
   ]
  },
  {
   "cell_type": "code",
   "execution_count": 2,
   "metadata": {},
   "outputs": [],
   "source": [
    "API_KEY = \"\"\n",
    "\n",
    "client = BODSClient(api_key=API_KEY)\n",
    "\n",
    "def query_vehicle_data(client, params):\n",
    "    siri_response = client.get_siri_vm_data_feed(params=params)\n",
    "    if type(siri_response) == APIError:\n",
    "        raise APIError(siri_response)\n",
    "    siri = Siri.from_bytes(siri_response)\n",
    "    v_data = siri.service_delivery.vehicle_monitoring_delivery.vehicle_activities\n",
    "    \n",
    "    return v_data\n",
    "\n",
    "def create_csv_dict(v_data):\n",
    "    timestamp = v_data.recorded_at_time\n",
    "    j_data = v_data.monitored_vehicle_journey.model_dump()\n",
    "    j_data['recorded_at_time'] = timestamp\n",
    "\n",
    "    return j_data\n"
   ]
  },
  {
   "cell_type": "code",
   "execution_count": 3,
   "metadata": {},
   "outputs": [],
   "source": [
    "bounding_box = BoundingBox(\n",
    "    **{\n",
    "        \"min_latitude\": 50.72,\n",
    "        \"max_latitude\": 50.772,\n",
    "        \"min_longitude\": -3.51,\n",
    "        \"max_longitude\": -3.499,\n",
    "    }\n",
    ")\n",
    "\n",
    "params = SIRIVMParams(bounding_box=bounding_box)\n",
    "\n",
    "csv_file = 'buses.csv'\n",
    "\n"
   ]
  },
  {
   "cell_type": "code",
   "execution_count": 4,
   "metadata": {},
   "outputs": [
    {
     "name": "stdout",
     "output_type": "stream",
     "text": [
      "2024-10-20 20:15:12 - no buses found.\n",
      "2024-10-20 20:15:42 - no buses found.\n",
      "2024-10-20 20:16:12 - no buses found.\n",
      "2024-10-20 20:16:43 found 1 buses!\n",
      "Writing {'bearing': 78.0, 'block_ref': None, 'framed_vehicle_journey_ref': {'data_frame_ref': datetime.date(2024, 10, 20), 'dated_vehicle_journey_ref': '422'}, 'vehicle_journey_ref': None, 'destination_name': 'Tesco Filling Stati', 'destination_ref': '1100DEC10345', 'origin_name': 'Tesco Filling Stati', 'origin_ref': '1100DEC10345', 'origin_aimed_departure_time': datetime.datetime(2024, 10, 20, 17, 30, tzinfo=TzInfo(UTC)), 'direction_ref': 'inbound', 'published_line_name': 'J', 'line_ref': 'J', 'vehicle_location': {'longitude': -3.508751, 'latitude': 50.730759}, 'operator_ref': 'SDVN', 'vehicle_ref': 'SDVN-36230', 'recorded_at_time': datetime.datetime(2024, 10, 20, 19, 16, 32, tzinfo=TzInfo(UTC))}\n",
      "2024-10-20 20:17:13 - Found 1 buses!\n",
      "Writing: {'bearing': 78.0, 'block_ref': None, 'framed_vehicle_journey_ref': {'data_frame_ref': datetime.date(2024, 10, 20), 'dated_vehicle_journey_ref': '422'}, 'vehicle_journey_ref': None, 'destination_name': 'Tesco Filling Stati', 'destination_ref': '1100DEC10345', 'origin_name': 'Tesco Filling Stati', 'origin_ref': '1100DEC10345', 'origin_aimed_departure_time': datetime.datetime(2024, 10, 20, 17, 30, tzinfo=TzInfo(UTC)), 'direction_ref': 'inbound', 'published_line_name': 'J', 'line_ref': 'J', 'vehicle_location': {'longitude': -3.508522, 'latitude': 50.730724}, 'operator_ref': 'SDVN', 'vehicle_ref': 'SDVN-36230', 'recorded_at_time': datetime.datetime(2024, 10, 20, 19, 16, 52, tzinfo=TzInfo(UTC))}\n",
      "2024-10-20 20:17:43 - Found 1 buses!\n",
      "Writing: {'bearing': 72.0, 'block_ref': None, 'framed_vehicle_journey_ref': {'data_frame_ref': datetime.date(2024, 10, 20), 'dated_vehicle_journey_ref': '422'}, 'vehicle_journey_ref': None, 'destination_name': 'Tesco Filling Stati', 'destination_ref': '1100DEC10345', 'origin_name': 'Tesco Filling Stati', 'origin_ref': '1100DEC10345', 'origin_aimed_departure_time': datetime.datetime(2024, 10, 20, 17, 30, tzinfo=TzInfo(UTC)), 'direction_ref': 'inbound', 'published_line_name': 'J', 'line_ref': 'J', 'vehicle_location': {'longitude': -3.502235, 'latitude': 50.7314}, 'operator_ref': 'SDVN', 'vehicle_ref': 'SDVN-36230', 'recorded_at_time': datetime.datetime(2024, 10, 20, 19, 17, 32, tzinfo=TzInfo(UTC))}\n",
      "2024-10-20 20:18:13 - Found 1 buses!\n",
      "Writing: {'bearing': 72.0, 'block_ref': None, 'framed_vehicle_journey_ref': {'data_frame_ref': datetime.date(2024, 10, 20), 'dated_vehicle_journey_ref': '422'}, 'vehicle_journey_ref': None, 'destination_name': 'Tesco Filling Stati', 'destination_ref': '1100DEC10345', 'origin_name': 'Tesco Filling Stati', 'origin_ref': '1100DEC10345', 'origin_aimed_departure_time': datetime.datetime(2024, 10, 20, 17, 30, tzinfo=TzInfo(UTC)), 'direction_ref': 'inbound', 'published_line_name': 'J', 'line_ref': 'J', 'vehicle_location': {'longitude': -3.500396, 'latitude': 50.731632}, 'operator_ref': 'SDVN', 'vehicle_ref': 'SDVN-36230', 'recorded_at_time': datetime.datetime(2024, 10, 20, 19, 17, 52, tzinfo=TzInfo(UTC))}\n",
      "2024-10-20 20:18:43 - No buses found.\n",
      "2024-10-20 20:19:13 - No buses found.\n",
      "2024-10-20 20:19:44 - No buses found.\n"
     ]
    },
    {
     "ename": "KeyboardInterrupt",
     "evalue": "",
     "output_type": "error",
     "traceback": [
      "\u001b[1;31m---------------------------------------------------------------------------\u001b[0m",
      "\u001b[1;31mKeyboardInterrupt\u001b[0m                         Traceback (most recent call last)",
      "Cell \u001b[1;32mIn[4], line 27\u001b[0m\n\u001b[0;32m     25\u001b[0m \u001b[38;5;66;03m# now read more bus data\u001b[39;00m\n\u001b[0;32m     26\u001b[0m \u001b[38;5;28;01mwhile\u001b[39;00m \u001b[38;5;28;01mTrue\u001b[39;00m:\n\u001b[1;32m---> 27\u001b[0m     \u001b[43mtime\u001b[49m\u001b[38;5;241;43m.\u001b[39;49m\u001b[43msleep\u001b[49m\u001b[43m(\u001b[49m\u001b[38;5;241;43m30\u001b[39;49m\u001b[43m)\u001b[49m\n\u001b[0;32m     29\u001b[0m     v_data \u001b[38;5;241m=\u001b[39m query_vehicle_data(client, params)\n\u001b[0;32m     30\u001b[0m     now \u001b[38;5;241m=\u001b[39m datetime\u001b[38;5;241m.\u001b[39mdatetime\u001b[38;5;241m.\u001b[39mnow()\n",
      "\u001b[1;31mKeyboardInterrupt\u001b[0m: "
     ]
    }
   ],
   "source": [
    "v_data = []\n",
    "# get some initial bus data\n",
    "while(len(v_data) == 0):\n",
    "    v_data = query_vehicle_data(client, params)\n",
    "    now = datetime.datetime.now()\n",
    "    now = now.strftime(\"%Y-%m-%d %H:%M:%S\")\n",
    "    if len(v_data) > 0:\n",
    "        print(f'{now} found {len(v_data)} buses!')\n",
    "    else:\n",
    "        print(f'{now} - no buses found.')\n",
    "        time.sleep(30)\n",
    "\n",
    "# Open the CSV file for writing and write the header\n",
    "with open(csv_file, \"w\", newline=\"\") as csvfile:\n",
    "    j_data = create_csv_dict(v_data[0])\n",
    "    writer = csv.DictWriter(csvfile, fieldnames=j_data.keys())\n",
    "    writer.writeheader()\n",
    "\n",
    "    # write first set of data\n",
    "    for v in v_data:\n",
    "        j_row = create_csv_dict(v)\n",
    "        print(f'Writing {j_row}')\n",
    "        writer.writerow(j_row)\n",
    "\n",
    "    # now read more bus data\n",
    "    while True:\n",
    "        time.sleep(30)\n",
    "\n",
    "        v_data = query_vehicle_data(client, params)\n",
    "        now = datetime.datetime.now()\n",
    "        now = now.strftime(\"%Y-%m-%d %H:%M:%S\")\n",
    "        if len(v_data) > 0:\n",
    "            print(f'{now} - Found {len(v_data)} buses!')\n",
    "            for v in v_data:\n",
    "                j_row = create_csv_dict(v)\n",
    "                print(f'Writing: {j_row}')\n",
    "                writer.writerow(j_row)\n",
    "        else:\n",
    "            print(f'{now} - No buses found.')"
   ]
  },
  {
   "cell_type": "code",
   "execution_count": 30,
   "metadata": {},
   "outputs": [
    {
     "data": {
      "text/plain": [
       "[VehicleActivity(recorded_at_time=datetime.datetime(2024, 10, 20, 17, 47, 5, tzinfo=TzInfo(UTC)), item_identifier='SCBODS:VEHICLESTATUSRT:8195:9330', valid_until_time=datetime.datetime(2024, 10, 20, 17, 52, 17, 317000, tzinfo=TzInfo(UTC)), monitored_vehicle_journey=MonitoredVehicleJourney(bearing=96.0, block_ref=None, framed_vehicle_journey_ref=FramedVehicleJourneyRef(data_frame_ref=datetime.date(2024, 10, 20), dated_vehicle_journey_ref='449'), vehicle_journey_ref=None, destination_name='Court Royal', destination_ref='1100DEA57267', origin_name='St Davids Station', origin_ref='1100DEZ05173', origin_aimed_departure_time=datetime.datetime(2024, 10, 20, 17, 30, tzinfo=TzInfo(UTC)), direction_ref='outbound', published_line_name='4', line_ref='4', vehicle_location=VehicleLocation(longitude=-3.505854, latitude=50.721523), operator_ref='SDVN', vehicle_ref='SDVN-24148'))]"
      ]
     },
     "execution_count": 30,
     "metadata": {},
     "output_type": "execute_result"
    }
   ],
   "source": [
    "query_vehicle_data(client, params)"
   ]
  },
  {
   "cell_type": "code",
   "execution_count": null,
   "metadata": {},
   "outputs": [],
   "source": []
  }
 ],
 "metadata": {
  "kernelspec": {
   "display_name": "Python 3",
   "language": "python",
   "name": "python3"
  },
  "language_info": {
   "codemirror_mode": {
    "name": "ipython",
    "version": 3
   },
   "file_extension": ".py",
   "mimetype": "text/x-python",
   "name": "python",
   "nbconvert_exporter": "python",
   "pygments_lexer": "ipython3",
   "version": "3.10.15"
  }
 },
 "nbformat": 4,
 "nbformat_minor": 2
}
